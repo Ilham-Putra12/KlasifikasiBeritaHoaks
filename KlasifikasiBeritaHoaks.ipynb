{
  "nbformat": 4,
  "nbformat_minor": 0,
  "metadata": {
    "colab": {
      "provenance": [],
      "authorship_tag": "ABX9TyOMqAJfPxcF9rGDlgA7FXVy",
      "include_colab_link": true
    },
    "kernelspec": {
      "name": "python3",
      "display_name": "Python 3"
    },
    "language_info": {
      "name": "python"
    }
  },
  "cells": [
    {
      "cell_type": "markdown",
      "metadata": {
        "id": "view-in-github",
        "colab_type": "text"
      },
      "source": [
        "<a href=\"https://colab.research.google.com/github/Ilham-Putra12/KlasifikasiBeritaHoaks/blob/main/KlasifikasiBeritaHoaks.ipynb\" target=\"_parent\"><img src=\"https://colab.research.google.com/assets/colab-badge.svg\" alt=\"Open In Colab\"/></a>"
      ]
    },
    {
      "cell_type": "code",
      "source": [
        "import tensorflow as tf\n",
        "from tensorflow.keras.preprocessing.text import Tokenizer\n",
        "from tensorflow.keras.preprocessing.sequence import pad_sequences\n",
        "from tensorflow.keras.models import Sequential\n",
        "from tensorflow.keras.layers import Embedding, Conv1D, GlobalMaxPooling1D, Dense, Dropout\n",
        "from sklearn.model_selection import train_test_split\n",
        "from sklearn.metrics import classification_report, confusion_matrix\n",
        "import pandas as pd\n",
        "import numpy as np\n",
        "import matplotlib.pyplot as plt\n",
        "import seaborn as sns\n",
        "\n",
        "print(\"TensorFlow Version:\", tf.__version__)\n",
        "print(\"GPU Tersedia:\", tf.config.list_physical_devices('GPU'))\n"
      ],
      "metadata": {
        "colab": {
          "base_uri": "https://localhost:8080/"
        },
        "id": "NwGQSVj77p7n",
        "outputId": "e75e994d-2d63-418e-fb17-a631e6a560ca"
      },
      "execution_count": 8,
      "outputs": [
        {
          "output_type": "stream",
          "name": "stdout",
          "text": [
            "TensorFlow Version: 2.18.0\n",
            "GPU Tersedia: []\n"
          ]
        }
      ]
    },
    {
      "cell_type": "code",
      "source": [
        "data = {\n",
        "    'text': [\n",
        "        \"Jokowi membagikan hadiah kepada seluruh rakyat Indonesia secara cuma-cuma.\", # HOAX\n",
        "        \"Breaking News: Vaksin COVID-19 ternyata mengandung microchip.\", # HOAX\n",
        "        \"Ilmuwan menemukan obat mujarab untuk semua penyakit kronis.\", # HOAX\n",
        "        \"Pemerintah akan menaikkan gaji ASN sebesar 200% tahun depan.\", # HOAX\n",
        "        \"Fakta: Presiden Republik Indonesia mengunjungi korban bencana alam di daerah terpencil.\", # ASLI\n",
        "        \"Hoax: Gempa bumi besar akan melanda Jakarta besok pagi.\", # HOAX\n",
        "        \"Analisis: Inflasi global diprediksi akan meningkat di kuartal berikutnya.\", # ASLI\n",
        "        \"Berita: Timnas sepak bola Indonesia berhasil lolos ke Piala Dunia.\", # HOAX (contoh, tergantung konteks)\n",
        "        \"Informasi: Pendaftaran CPNS tahun ini akan dibuka bulan depan.\", # ASLI\n",
        "        \"Waspada: Modus penipuan baru melalui SMS yang mengatasnamakan bank.\", # ASLI\n",
        "        \"Klarifikasi: Video viral tentang alien mendarat di bumi adalah editan.\", # ASLI\n",
        "        \"Update: Proyek pembangunan infrastruktur baru di ibu kota terus berjalan.\", # ASLI\n",
        "        \"Peringatan: Jangan pernah memberikan informasi pribadi kepada orang tak dikenal.\", # ASLI\n",
        "        \"Riset: Penemuan baru dalam pengobatan kanker memberikan harapan.\", # ASLI\n",
        "        \"Hoax: Matahari akan terbit dari barat pada tahun 2025.\", # HOAX\n",
        "        \"Berita Terkini: Perusahaan teknologi raksasa meluncurkan produk inovatif.\", # ASLI\n",
        "        \"Edukasi: Pentingnya menjaga kebersihan lingkungan untuk kesehatan.\", # ASLI\n",
        "        \"Kontroversi: Kebijakan baru pemerintah menuai pro dan kontra di masyarakat.\", # ASLI\n",
        "        \"Peringatan Dini: Cuaca ekstrem diperkirakan terjadi di beberapa wilayah.\", # ASLI\n",
        "        \"Fakta: Jumlah kasus positif COVID-19 menunjukkan penurunan signifikan.\" # ASLI\n",
        "    ],\n",
        "    'label': [\n",
        "        'hoax', 'hoax', 'hoax', 'hoax', 'asli',\n",
        "        'hoax', 'asli', 'hoax', 'asli', 'asli',\n",
        "        'asli', 'asli', 'asli', 'asli', 'hoax',\n",
        "        'asli', 'asli', 'asli', 'asli', 'asli'\n",
        "    ]\n",
        "}\n",
        "\n",
        "df = pd.DataFrame(data)\n",
        "\n",
        "# Konversi label string ke numerik\n",
        "# 1 untuk 'hoax', 0 untuk 'asli'\n",
        "df['label'] = df['label'].apply(lambda x: 1 if x == 'hoax' else 0)\n",
        "\n",
        "print(\"\\n--- Contoh Data (5 baris pertama) ---\")\n",
        "print(df.head())\n",
        "print(\"\\n--- Distribusi Label ---\")\n",
        "print(df['label'].value_counts())\n"
      ],
      "metadata": {
        "colab": {
          "base_uri": "https://localhost:8080/"
        },
        "id": "IDXUnAkf7-5l",
        "outputId": "1e2e0301-cfb6-4078-d725-e38ab5385ac4"
      },
      "execution_count": 9,
      "outputs": [
        {
          "output_type": "stream",
          "name": "stdout",
          "text": [
            "\n",
            "--- Contoh Data (5 baris pertama) ---\n",
            "                                                text  label\n",
            "0  Jokowi membagikan hadiah kepada seluruh rakyat...      1\n",
            "1  Breaking News: Vaksin COVID-19 ternyata mengan...      1\n",
            "2  Ilmuwan menemukan obat mujarab untuk semua pen...      1\n",
            "3  Pemerintah akan menaikkan gaji ASN sebesar 200...      1\n",
            "4  Fakta: Presiden Republik Indonesia mengunjungi...      0\n",
            "\n",
            "--- Distribusi Label ---\n",
            "label\n",
            "0    13\n",
            "1     7\n",
            "Name: count, dtype: int64\n"
          ]
        }
      ]
    },
    {
      "cell_type": "code",
      "source": [
        "vocab_size = 5000     # Ukuran vocabulary (jumlah kata unik maksimum yang akan dipertimbangkan)\n",
        "embedding_dim = 100   # Dimensi vektor embedding untuk setiap kata\n",
        "max_length = 100      # Panjang maksimum setiap teks (setelah padding/truncating)\n",
        "trunc_type = 'post'   # Pemotongan jika teks terlalu panjang (dari akhir)\n",
        "padding_type = 'post' # Padding jika teks terlalu pendek (di akhir)\n",
        "oov_tok = \"<OOV>\"     # Token untuk kata-kata \"Out Of Vocabulary\"\n",
        "\n",
        "tokenizer = Tokenizer(num_words=vocab_size, oov_token=oov_tok)\n",
        "tokenizer.fit_on_texts(df['text'])\n",
        "word_index = tokenizer.word_index\n",
        "print(f\"\\nJumlah kata unik dalam vocabulary: {len(word_index)}\")\n",
        "\n",
        "# Konversi teks menjadi urutan angka (indeks kata)\n",
        "sequences = tokenizer.texts_to_sequences(df['text'])\n",
        "\n",
        "# Melakukan padding agar semua urutan memiliki panjang yang sama\n",
        "padded_sequences = pad_sequences(sequences, maxlen=max_length, padding=padding_type, truncating=trunc_type)\n",
        "\n",
        "# Siapkan fitur (X) dan label (y) untuk model\n",
        "X = padded_sequences\n",
        "y = df['label'].values"
      ],
      "metadata": {
        "colab": {
          "base_uri": "https://localhost:8080/"
        },
        "id": "kOuTyaK18Ber",
        "outputId": "3dcf66f0-aa71-4975-8895-a64fbe626e37"
      },
      "execution_count": 10,
      "outputs": [
        {
          "output_type": "stream",
          "name": "stdout",
          "text": [
            "\n",
            "Jumlah kata unik dalam vocabulary: 153\n"
          ]
        }
      ]
    },
    {
      "cell_type": "code",
      "source": [
        "X_train_val, X_test, y_train_val, y_test = train_test_split(\n",
        "    X, y, test_size=0.2, random_state=42, stratify=y\n",
        ")\n",
        "\n",
        "# Kemudian, pisahkan data training (75% dari X_train_val) dan validasi (25% dari X_train_val)\n",
        "# Ini menghasilkan 60% training dan 20% validasi dari total data awal (0.75 * 0.8 = 0.6)\n",
        "X_train, X_val, y_train, y_val = train_test_split(\n",
        "    X_train_val, y_train_val, test_size=0.25, random_state=42, stratify=y_train_val\n",
        ")\n",
        "\n",
        "print(f\"\\nUkuran Data Training: {X_train.shape[0]} samples\")\n",
        "print(f\"Ukuran Data Validasi: {X_val.shape[0]} samples\")\n",
        "print(f\"Ukuran Data Testing: {X_test.shape[0]} samples\")"
      ],
      "metadata": {
        "colab": {
          "base_uri": "https://localhost:8080/"
        },
        "id": "fm8NQ9sc8Jyp",
        "outputId": "2a7b0409-3a22-40f8-d43b-a4f9052f1d5b"
      },
      "execution_count": 11,
      "outputs": [
        {
          "output_type": "stream",
          "name": "stdout",
          "text": [
            "\n",
            "Ukuran Data Training: 12 samples\n",
            "Ukuran Data Validasi: 4 samples\n",
            "Ukuran Data Testing: 4 samples\n"
          ]
        }
      ]
    },
    {
      "cell_type": "code",
      "source": [
        "model = Sequential([\n",
        "    # Layer Embedding: Mengubah indeks kata menjadi vektor padat\n",
        "    # input_dim = vocab_size (jumlah kata unik yang dipertimbangkan)\n",
        "    # output_dim = embedding_dim (dimensi vektor embedding)\n",
        "    # input_length = max_length (panjang urutan input)\n",
        "    Embedding(vocab_size, embedding_dim, input_length=max_length),\n",
        "\n",
        "    # Conv1D Layer: Melakukan konvolusi pada urutan.\n",
        "    # 128: Jumlah filter (detektor fitur)\n",
        "    # 5: Ukuran kernel (windows yang bergerak di sepanjang urutan)\n",
        "    # activation='relu': Fungsi aktivasi ReLU\n",
        "    Conv1D(128, 5, activation='relu'),\n",
        "\n",
        "    # GlobalMaxPooling1D Layer: Mengambil nilai maksimum dari semua fitur yang diekstraksi\n",
        "    # di sepanjang setiap filter. Ini membantu menangkap fitur yang paling signifikan.\n",
        "    GlobalMaxPooling1D(),\n",
        "\n",
        "    # Dense Layer (Fully Connected): Lapisan terhubung penuh.\n",
        "    # 64: Jumlah neuron di lapisan ini\n",
        "    # activation='relu': Fungsi aktivasi ReLU\n",
        "    Dense(64, activation='relu'),\n",
        "\n",
        "    # Dropout Layer: Secara acak menonaktifkan sebagian neuron selama pelatihan\n",
        "    # untuk mencegah overfitting (model terlalu hafalan pada data training).\n",
        "    # 0.5: Tingkat dropout (50% neuron dinonaktifkan secara acak)\n",
        "    Dropout(0.5),\n",
        "\n",
        "    # Output Layer: Lapisan terakhir untuk klasifikasi.\n",
        "    # 1: Jumlah neuron (karena ini klasifikasi biner: hoax atau asli)\n",
        "    # activation='sigmoid': Fungsi aktivasi Sigmoid, menghasilkan probabilitas antara 0 dan 1\n",
        "    Dense(1, activation='sigmoid')\n",
        "])\n",
        "\n",
        "# Mengkompilasi model: Menentukan optimizer, fungsi loss, dan metrik\n",
        "model.compile(optimizer='adam',           # Optimizer Adam adalah pilihan umum yang baik\n",
        "              loss='binary_crossentropy', # Fungsi loss untuk klasifikasi biner\n",
        "              metrics=['accuracy'])       # Metrik yang akan dipantau selama pelatihan\n",
        "\n",
        "model.summary() # Menampilkan ringkasan arsitektur model"
      ],
      "metadata": {
        "colab": {
          "base_uri": "https://localhost:8080/",
          "height": 392
        },
        "id": "N-77MxIr8OpI",
        "outputId": "a3cd77c5-1331-4545-e1e3-a4fbf99fb22e"
      },
      "execution_count": 12,
      "outputs": [
        {
          "output_type": "stream",
          "name": "stderr",
          "text": [
            "/usr/local/lib/python3.11/dist-packages/keras/src/layers/core/embedding.py:90: UserWarning: Argument `input_length` is deprecated. Just remove it.\n",
            "  warnings.warn(\n"
          ]
        },
        {
          "output_type": "display_data",
          "data": {
            "text/plain": [
              "\u001b[1mModel: \"sequential\"\u001b[0m\n"
            ],
            "text/html": [
              "<pre style=\"white-space:pre;overflow-x:auto;line-height:normal;font-family:Menlo,'DejaVu Sans Mono',consolas,'Courier New',monospace\"><span style=\"font-weight: bold\">Model: \"sequential\"</span>\n",
              "</pre>\n"
            ]
          },
          "metadata": {}
        },
        {
          "output_type": "display_data",
          "data": {
            "text/plain": [
              "┏━━━━━━━━━━━━━━━━━━━━━━━━━━━━━━━━━┳━━━━━━━━━━━━━━━━━━━━━━━━┳━━━━━━━━━━━━━━━┓\n",
              "┃\u001b[1m \u001b[0m\u001b[1mLayer (type)                   \u001b[0m\u001b[1m \u001b[0m┃\u001b[1m \u001b[0m\u001b[1mOutput Shape          \u001b[0m\u001b[1m \u001b[0m┃\u001b[1m \u001b[0m\u001b[1m      Param #\u001b[0m\u001b[1m \u001b[0m┃\n",
              "┡━━━━━━━━━━━━━━━━━━━━━━━━━━━━━━━━━╇━━━━━━━━━━━━━━━━━━━━━━━━╇━━━━━━━━━━━━━━━┩\n",
              "│ embedding (\u001b[38;5;33mEmbedding\u001b[0m)           │ ?                      │   \u001b[38;5;34m0\u001b[0m (unbuilt) │\n",
              "├─────────────────────────────────┼────────────────────────┼───────────────┤\n",
              "│ conv1d (\u001b[38;5;33mConv1D\u001b[0m)                 │ ?                      │   \u001b[38;5;34m0\u001b[0m (unbuilt) │\n",
              "├─────────────────────────────────┼────────────────────────┼───────────────┤\n",
              "│ global_max_pooling1d            │ ?                      │             \u001b[38;5;34m0\u001b[0m │\n",
              "│ (\u001b[38;5;33mGlobalMaxPooling1D\u001b[0m)            │                        │               │\n",
              "├─────────────────────────────────┼────────────────────────┼───────────────┤\n",
              "│ dense (\u001b[38;5;33mDense\u001b[0m)                   │ ?                      │   \u001b[38;5;34m0\u001b[0m (unbuilt) │\n",
              "├─────────────────────────────────┼────────────────────────┼───────────────┤\n",
              "│ dropout (\u001b[38;5;33mDropout\u001b[0m)               │ ?                      │             \u001b[38;5;34m0\u001b[0m │\n",
              "├─────────────────────────────────┼────────────────────────┼───────────────┤\n",
              "│ dense_1 (\u001b[38;5;33mDense\u001b[0m)                 │ ?                      │   \u001b[38;5;34m0\u001b[0m (unbuilt) │\n",
              "└─────────────────────────────────┴────────────────────────┴───────────────┘\n"
            ],
            "text/html": [
              "<pre style=\"white-space:pre;overflow-x:auto;line-height:normal;font-family:Menlo,'DejaVu Sans Mono',consolas,'Courier New',monospace\">┏━━━━━━━━━━━━━━━━━━━━━━━━━━━━━━━━━┳━━━━━━━━━━━━━━━━━━━━━━━━┳━━━━━━━━━━━━━━━┓\n",
              "┃<span style=\"font-weight: bold\"> Layer (type)                    </span>┃<span style=\"font-weight: bold\"> Output Shape           </span>┃<span style=\"font-weight: bold\">       Param # </span>┃\n",
              "┡━━━━━━━━━━━━━━━━━━━━━━━━━━━━━━━━━╇━━━━━━━━━━━━━━━━━━━━━━━━╇━━━━━━━━━━━━━━━┩\n",
              "│ embedding (<span style=\"color: #0087ff; text-decoration-color: #0087ff\">Embedding</span>)           │ ?                      │   <span style=\"color: #00af00; text-decoration-color: #00af00\">0</span> (unbuilt) │\n",
              "├─────────────────────────────────┼────────────────────────┼───────────────┤\n",
              "│ conv1d (<span style=\"color: #0087ff; text-decoration-color: #0087ff\">Conv1D</span>)                 │ ?                      │   <span style=\"color: #00af00; text-decoration-color: #00af00\">0</span> (unbuilt) │\n",
              "├─────────────────────────────────┼────────────────────────┼───────────────┤\n",
              "│ global_max_pooling1d            │ ?                      │             <span style=\"color: #00af00; text-decoration-color: #00af00\">0</span> │\n",
              "│ (<span style=\"color: #0087ff; text-decoration-color: #0087ff\">GlobalMaxPooling1D</span>)            │                        │               │\n",
              "├─────────────────────────────────┼────────────────────────┼───────────────┤\n",
              "│ dense (<span style=\"color: #0087ff; text-decoration-color: #0087ff\">Dense</span>)                   │ ?                      │   <span style=\"color: #00af00; text-decoration-color: #00af00\">0</span> (unbuilt) │\n",
              "├─────────────────────────────────┼────────────────────────┼───────────────┤\n",
              "│ dropout (<span style=\"color: #0087ff; text-decoration-color: #0087ff\">Dropout</span>)               │ ?                      │             <span style=\"color: #00af00; text-decoration-color: #00af00\">0</span> │\n",
              "├─────────────────────────────────┼────────────────────────┼───────────────┤\n",
              "│ dense_1 (<span style=\"color: #0087ff; text-decoration-color: #0087ff\">Dense</span>)                 │ ?                      │   <span style=\"color: #00af00; text-decoration-color: #00af00\">0</span> (unbuilt) │\n",
              "└─────────────────────────────────┴────────────────────────┴───────────────┘\n",
              "</pre>\n"
            ]
          },
          "metadata": {}
        },
        {
          "output_type": "display_data",
          "data": {
            "text/plain": [
              "\u001b[1m Total params: \u001b[0m\u001b[38;5;34m0\u001b[0m (0.00 B)\n"
            ],
            "text/html": [
              "<pre style=\"white-space:pre;overflow-x:auto;line-height:normal;font-family:Menlo,'DejaVu Sans Mono',consolas,'Courier New',monospace\"><span style=\"font-weight: bold\"> Total params: </span><span style=\"color: #00af00; text-decoration-color: #00af00\">0</span> (0.00 B)\n",
              "</pre>\n"
            ]
          },
          "metadata": {}
        },
        {
          "output_type": "display_data",
          "data": {
            "text/plain": [
              "\u001b[1m Trainable params: \u001b[0m\u001b[38;5;34m0\u001b[0m (0.00 B)\n"
            ],
            "text/html": [
              "<pre style=\"white-space:pre;overflow-x:auto;line-height:normal;font-family:Menlo,'DejaVu Sans Mono',consolas,'Courier New',monospace\"><span style=\"font-weight: bold\"> Trainable params: </span><span style=\"color: #00af00; text-decoration-color: #00af00\">0</span> (0.00 B)\n",
              "</pre>\n"
            ]
          },
          "metadata": {}
        },
        {
          "output_type": "display_data",
          "data": {
            "text/plain": [
              "\u001b[1m Non-trainable params: \u001b[0m\u001b[38;5;34m0\u001b[0m (0.00 B)\n"
            ],
            "text/html": [
              "<pre style=\"white-space:pre;overflow-x:auto;line-height:normal;font-family:Menlo,'DejaVu Sans Mono',consolas,'Courier New',monospace\"><span style=\"font-weight: bold\"> Non-trainable params: </span><span style=\"color: #00af00; text-decoration-color: #00af00\">0</span> (0.00 B)\n",
              "</pre>\n"
            ]
          },
          "metadata": {}
        }
      ]
    },
    {
      "cell_type": "code",
      "source": [
        "num_epochs = 15 # Jumlah epoch (berapa kali seluruh dataset training dilewatkan ke model)\n",
        "batch_size = 32 # Ukuran batch (jumlah sampel yang diproses sebelum bobot diperbarui)\n",
        "\n",
        "print(f\"\\n--- Memulai Pelatihan Model ({num_epochs} Epochs) ---\")\n",
        "history = model.fit(\n",
        "    X_train, y_train,\n",
        "    epochs=num_epochs,\n",
        "    batch_size=batch_size,\n",
        "    validation_data=(X_val, y_val),\n",
        "    verbose=1 # Menampilkan progress pelatihan\n",
        ")"
      ],
      "metadata": {
        "colab": {
          "base_uri": "https://localhost:8080/"
        },
        "id": "soZk8xgw8UYE",
        "outputId": "a6807f65-1704-49e3-8f40-0eca4974388a"
      },
      "execution_count": 13,
      "outputs": [
        {
          "output_type": "stream",
          "name": "stdout",
          "text": [
            "\n",
            "--- Memulai Pelatihan Model (15 Epochs) ---\n",
            "Epoch 1/15\n",
            "\u001b[1m1/1\u001b[0m \u001b[32m━━━━━━━━━━━━━━━━━━━━\u001b[0m\u001b[37m\u001b[0m \u001b[1m6s\u001b[0m 6s/step - accuracy: 0.5000 - loss: 0.6967 - val_accuracy: 0.7500 - val_loss: 0.6828\n",
            "Epoch 2/15\n",
            "\u001b[1m1/1\u001b[0m \u001b[32m━━━━━━━━━━━━━━━━━━━━\u001b[0m\u001b[37m\u001b[0m \u001b[1m0s\u001b[0m 307ms/step - accuracy: 0.6667 - loss: 0.6649 - val_accuracy: 0.7500 - val_loss: 0.6750\n",
            "Epoch 3/15\n",
            "\u001b[1m1/1\u001b[0m \u001b[32m━━━━━━━━━━━━━━━━━━━━\u001b[0m\u001b[37m\u001b[0m \u001b[1m1s\u001b[0m 609ms/step - accuracy: 0.7500 - loss: 0.6633 - val_accuracy: 0.7500 - val_loss: 0.6702\n",
            "Epoch 4/15\n",
            "\u001b[1m1/1\u001b[0m \u001b[32m━━━━━━━━━━━━━━━━━━━━\u001b[0m\u001b[37m\u001b[0m \u001b[1m1s\u001b[0m 567ms/step - accuracy: 0.7500 - loss: 0.6518 - val_accuracy: 0.7500 - val_loss: 0.6680\n",
            "Epoch 5/15\n",
            "\u001b[1m1/1\u001b[0m \u001b[32m━━━━━━━━━━━━━━━━━━━━\u001b[0m\u001b[37m\u001b[0m \u001b[1m0s\u001b[0m 183ms/step - accuracy: 0.8333 - loss: 0.6286 - val_accuracy: 0.7500 - val_loss: 0.6660\n",
            "Epoch 6/15\n",
            "\u001b[1m1/1\u001b[0m \u001b[32m━━━━━━━━━━━━━━━━━━━━\u001b[0m\u001b[37m\u001b[0m \u001b[1m0s\u001b[0m 104ms/step - accuracy: 0.7500 - loss: 0.6219 - val_accuracy: 0.7500 - val_loss: 0.6641\n",
            "Epoch 7/15\n",
            "\u001b[1m1/1\u001b[0m \u001b[32m━━━━━━━━━━━━━━━━━━━━\u001b[0m\u001b[37m\u001b[0m \u001b[1m0s\u001b[0m 103ms/step - accuracy: 1.0000 - loss: 0.5917 - val_accuracy: 0.7500 - val_loss: 0.6625\n",
            "Epoch 8/15\n",
            "\u001b[1m1/1\u001b[0m \u001b[32m━━━━━━━━━━━━━━━━━━━━\u001b[0m\u001b[37m\u001b[0m \u001b[1m0s\u001b[0m 134ms/step - accuracy: 1.0000 - loss: 0.5643 - val_accuracy: 0.7500 - val_loss: 0.6607\n",
            "Epoch 9/15\n",
            "\u001b[1m1/1\u001b[0m \u001b[32m━━━━━━━━━━━━━━━━━━━━\u001b[0m\u001b[37m\u001b[0m \u001b[1m0s\u001b[0m 139ms/step - accuracy: 0.9167 - loss: 0.5590 - val_accuracy: 0.7500 - val_loss: 0.6595\n",
            "Epoch 10/15\n",
            "\u001b[1m1/1\u001b[0m \u001b[32m━━━━━━━━━━━━━━━━━━━━\u001b[0m\u001b[37m\u001b[0m \u001b[1m0s\u001b[0m 140ms/step - accuracy: 1.0000 - loss: 0.5567 - val_accuracy: 0.7500 - val_loss: 0.6591\n",
            "Epoch 11/15\n",
            "\u001b[1m1/1\u001b[0m \u001b[32m━━━━━━━━━━━━━━━━━━━━\u001b[0m\u001b[37m\u001b[0m \u001b[1m0s\u001b[0m 151ms/step - accuracy: 1.0000 - loss: 0.5105 - val_accuracy: 0.7500 - val_loss: 0.6587\n",
            "Epoch 12/15\n",
            "\u001b[1m1/1\u001b[0m \u001b[32m━━━━━━━━━━━━━━━━━━━━\u001b[0m\u001b[37m\u001b[0m \u001b[1m0s\u001b[0m 111ms/step - accuracy: 1.0000 - loss: 0.4757 - val_accuracy: 0.7500 - val_loss: 0.6579\n",
            "Epoch 13/15\n",
            "\u001b[1m1/1\u001b[0m \u001b[32m━━━━━━━━━━━━━━━━━━━━\u001b[0m\u001b[37m\u001b[0m \u001b[1m0s\u001b[0m 140ms/step - accuracy: 1.0000 - loss: 0.4563 - val_accuracy: 0.7500 - val_loss: 0.6567\n",
            "Epoch 14/15\n",
            "\u001b[1m1/1\u001b[0m \u001b[32m━━━━━━━━━━━━━━━━━━━━\u001b[0m\u001b[37m\u001b[0m \u001b[1m0s\u001b[0m 105ms/step - accuracy: 1.0000 - loss: 0.4564 - val_accuracy: 0.7500 - val_loss: 0.6558\n",
            "Epoch 15/15\n",
            "\u001b[1m1/1\u001b[0m \u001b[32m━━━━━━━━━━━━━━━━━━━━\u001b[0m\u001b[37m\u001b[0m \u001b[1m0s\u001b[0m 137ms/step - accuracy: 1.0000 - loss: 0.3996 - val_accuracy: 0.7500 - val_loss: 0.6553\n"
          ]
        }
      ]
    },
    {
      "cell_type": "code",
      "source": [
        "print(\"\\n--- Evaluasi pada Data Testing ---\")\n",
        "loss, accuracy = model.evaluate(X_test, y_test, verbose=0)\n",
        "print(f\"Test Loss: {loss:.4f}\")\n",
        "print(f\"Test Accuracy: {accuracy:.4f}\")\n",
        "\n",
        "# Prediksi pada data testing\n",
        "y_pred_prob = model.predict(X_test)\n",
        "# Konversi probabilitas ke kelas biner (0 atau 1) dengan threshold 0.5\n",
        "y_pred = (y_pred_prob > 0.5).astype(int)\n",
        "\n",
        "print(\"\\n--- Classification Report ---\")\n",
        "# Menampilkan metrik kinerja seperti Presisi, Recall, F1-Score\n",
        "print(classification_report(y_test, y_pred, target_names=['Asli (0)', 'Hoax (1)']))\n",
        "\n",
        "print(\"\\n--- Confusion Matrix ---\")\n",
        "# Menampilkan Confusion Matrix untuk visualisasi kinerja klasifikasi\n",
        "cm = confusion_matrix(y_test, y_pred)\n",
        "plt.figure(figsize=(6, 5))\n",
        "sns.heatmap(cm, annot=True, fmt='d', cmap='Blues',\n",
        "            xticklabels=['Asli (Prediksi)', 'Hoax (Prediksi)'],\n",
        "            yticklabels=['Asli (Aktual)', 'Hoax (Aktual)'])\n",
        "plt.xlabel('Prediksi')\n",
        "plt.ylabel('Aktual')\n",
        "plt.title('Confusion Matrix')\n",
        "plt.show()"
      ],
      "metadata": {
        "colab": {
          "base_uri": "https://localhost:8080/",
          "height": 924
        },
        "id": "nZStrU6E8aed",
        "outputId": "387e0243-cfbe-43f6-b123-e682947fb130"
      },
      "execution_count": 14,
      "outputs": [
        {
          "output_type": "stream",
          "name": "stdout",
          "text": [
            "\n",
            "--- Evaluasi pada Data Testing ---\n",
            "Test Loss: 0.6382\n",
            "Test Accuracy: 0.7500\n",
            "\u001b[1m1/1\u001b[0m \u001b[32m━━━━━━━━━━━━━━━━━━━━\u001b[0m\u001b[37m\u001b[0m \u001b[1m1s\u001b[0m 572ms/step\n",
            "\n",
            "--- Classification Report ---\n",
            "              precision    recall  f1-score   support\n",
            "\n",
            "    Asli (0)       0.75      1.00      0.86         3\n",
            "    Hoax (1)       0.00      0.00      0.00         1\n",
            "\n",
            "    accuracy                           0.75         4\n",
            "   macro avg       0.38      0.50      0.43         4\n",
            "weighted avg       0.56      0.75      0.64         4\n",
            "\n",
            "\n",
            "--- Confusion Matrix ---\n"
          ]
        },
        {
          "output_type": "stream",
          "name": "stderr",
          "text": [
            "/usr/local/lib/python3.11/dist-packages/sklearn/metrics/_classification.py:1565: UndefinedMetricWarning: Precision is ill-defined and being set to 0.0 in labels with no predicted samples. Use `zero_division` parameter to control this behavior.\n",
            "  _warn_prf(average, modifier, f\"{metric.capitalize()} is\", len(result))\n",
            "/usr/local/lib/python3.11/dist-packages/sklearn/metrics/_classification.py:1565: UndefinedMetricWarning: Precision is ill-defined and being set to 0.0 in labels with no predicted samples. Use `zero_division` parameter to control this behavior.\n",
            "  _warn_prf(average, modifier, f\"{metric.capitalize()} is\", len(result))\n",
            "/usr/local/lib/python3.11/dist-packages/sklearn/metrics/_classification.py:1565: UndefinedMetricWarning: Precision is ill-defined and being set to 0.0 in labels with no predicted samples. Use `zero_division` parameter to control this behavior.\n",
            "  _warn_prf(average, modifier, f\"{metric.capitalize()} is\", len(result))\n"
          ]
        },
        {
          "output_type": "display_data",
          "data": {
            "text/plain": [
              "<Figure size 600x500 with 2 Axes>"
            ],
            "image/png": "[encoded data removed]"
          },
          "metadata": {}
        }
      ]
    },
    {
      "cell_type": "code",
      "source": [
        "plt.figure(figsize=(12, 6))\n",
        "plt.subplot(1, 2, 1) # 1 baris, 2 kolom, plot pertama\n",
        "plt.plot(history.history['accuracy'])\n",
        "plt.plot(history.history['val_accuracy'])\n",
        "plt.title('Model Accuracy')\n",
        "plt.ylabel('Accuracy')\n",
        "plt.xlabel('Epoch')\n",
        "plt.legend(['Train', 'Validation'], loc='upper left')\n",
        "\n",
        "# Plot training & validation loss values\n",
        "plt.subplot(1, 2, 2) # 1 baris, 2 kolom, plot kedua\n",
        "plt.plot(history.history['loss'])\n",
        "plt.plot(history.history['val_loss'])\n",
        "plt.title('Model Loss')\n",
        "plt.ylabel('Loss')\n",
        "plt.xlabel('Epoch')\n",
        "plt.legend(['Train', 'Validation'], loc='upper left')\n",
        "plt.tight_layout() # Mengatur layout agar tidak tumpang tindih\n",
        "plt.show()"
      ],
      "metadata": {
        "colab": {
          "base_uri": "https://localhost:8080/",
          "height": 607
        },
        "id": "p_wBSJum8gIe",
        "outputId": "9b81b3ac-e62e-4a6b-cbde-69455ae79eb3"
      },
      "execution_count": 15,
      "outputs": [
        {
          "output_type": "display_data",
          "data": {
            "text/plain": [
              "<Figure size 1200x600 with 2 Axes>"
            ],
            "image/png": "[encoded data removed]"
          },
          "metadata": {}
        }
      ]
    },
    {
      "cell_type": "code",
      "source": [
        "print(\"\\n--- Contoh Prediksi Teks Baru ---\")\n",
        "\n",
        "def predict_hoax_or_not(text_input):\n",
        "    # Pra-pemrosesan teks input\n",
        "    sequence = tokenizer.texts_to_sequences([text_input])\n",
        "    padded = pad_sequences(sequence, maxlen=max_length, padding=padding_type, truncating=trunc_type)\n",
        "\n",
        "    # Melakukan prediksi\n",
        "    prediction = model.predict(padded)[0][0]\n",
        "\n",
        "    # Menentukan hasil berdasarkan threshold\n",
        "    if prediction > 0.5:\n",
        "        result = \"HOAX\"\n",
        "        prob_hoax = prediction * 100\n",
        "        prob_asli = (1 - prediction) * 100\n",
        "    else:\n",
        "        result = \"ASLI\"\n",
        "        prob_hoax = prediction * 100\n",
        "        prob_asli = (1 - prediction) * 100\n",
        "\n",
        "    print(f\"\\nKalimat: '{text_input}'\")\n",
        "    print(f\"Prediksi: Ini kemungkinan {result}\")\n",
        "    print(f\"Probabilitas Hoax: {prob_hoax:.2f}%\")\n",
        "    print(f\"Probabilitas Asli: {prob_asli:.2f}%\")\n",
        "\n",
        "# Coba beberapa contoh\n",
        "predict_hoax_or_not(\"Pemerintah mengumumkan kenaikan harga BBM mulai besok pagi.\")\n",
        "predict_hoax_or_not(\"Seorang nenek berusia 150 tahun ditemukan masih hidup dan sehat di hutan.\")\n",
        "predict_hoax_or_not(\"BNPB melaporkan kondisi terkini korban banjir di Sumatera Barat.\")\n",
        "predict_hoax_or_not(\"Para ilmuwan mengklaim menemukan bukti kehidupan di planet Mars.\")\n",
        "predict_hoax_or_not(\"Berita: Jokowi akan menjadi raja dunia dalam waktu dekat.\")\n",
        "predict_hoax_or_not(\"Fakta: Indeks Harga Saham Gabungan (IHSG) hari ini ditutup menguat.\")"
      ],
      "metadata": {
        "colab": {
          "base_uri": "https://localhost:8080/"
        },
        "id": "9TnyvWLe8kLc",
        "outputId": "31ad9313-5eb3-4214-bede-f095f3cd1a10"
      },
      "execution_count": 16,
      "outputs": [
        {
          "output_type": "stream",
          "name": "stdout",
          "text": [
            "\n",
            "--- Contoh Prediksi Teks Baru ---\n",
            "\u001b[1m1/1\u001b[0m \u001b[32m━━━━━━━━━━━━━━━━━━━━\u001b[0m\u001b[37m\u001b[0m \u001b[1m0s\u001b[0m 314ms/step\n",
            "\n",
            "Kalimat: 'Pemerintah mengumumkan kenaikan harga BBM mulai besok pagi.'\n",
            "Prediksi: Ini kemungkinan ASLI\n",
            "Probabilitas Hoax: 46.93%\n",
            "Probabilitas Asli: 53.07%\n",
            "\u001b[1m1/1\u001b[0m \u001b[32m━━━━━━━━━━━━━━━━━━━━\u001b[0m\u001b[37m\u001b[0m \u001b[1m0s\u001b[0m 296ms/step\n",
            "\n",
            "Kalimat: 'Seorang nenek berusia 150 tahun ditemukan masih hidup dan sehat di hutan.'\n",
            "Prediksi: Ini kemungkinan ASLI\n",
            "Probabilitas Hoax: 45.47%\n",
            "Probabilitas Asli: 54.53%\n",
            "\u001b[1m1/1\u001b[0m \u001b[32m━━━━━━━━━━━━━━━━━━━━\u001b[0m\u001b[37m\u001b[0m \u001b[1m0s\u001b[0m 291ms/step\n",
            "\n",
            "Kalimat: 'BNPB melaporkan kondisi terkini korban banjir di Sumatera Barat.'\n",
            "Prediksi: Ini kemungkinan ASLI\n",
            "Probabilitas Hoax: 45.33%\n",
            "Probabilitas Asli: 54.67%\n",
            "\u001b[1m1/1\u001b[0m \u001b[32m━━━━━━━━━━━━━━━━━━━━\u001b[0m\u001b[37m\u001b[0m \u001b[1m0s\u001b[0m 161ms/step\n",
            "\n",
            "Kalimat: 'Para ilmuwan mengklaim menemukan bukti kehidupan di planet Mars.'\n",
            "Prediksi: Ini kemungkinan ASLI\n",
            "Probabilitas Hoax: 43.93%\n",
            "Probabilitas Asli: 56.07%\n",
            "\u001b[1m1/1\u001b[0m \u001b[32m━━━━━━━━━━━━━━━━━━━━\u001b[0m\u001b[37m\u001b[0m \u001b[1m0s\u001b[0m 132ms/step\n",
            "\n",
            "Kalimat: 'Berita: Jokowi akan menjadi raja dunia dalam waktu dekat.'\n",
            "Prediksi: Ini kemungkinan ASLI\n",
            "Probabilitas Hoax: 45.56%\n",
            "Probabilitas Asli: 54.44%\n",
            "\u001b[1m1/1\u001b[0m \u001b[32m━━━━━━━━━━━━━━━━━━━━\u001b[0m\u001b[37m\u001b[0m \u001b[1m0s\u001b[0m 93ms/step\n",
            "\n",
            "Kalimat: 'Fakta: Indeks Harga Saham Gabungan (IHSG) hari ini ditutup menguat.'\n",
            "Prediksi: Ini kemungkinan ASLI\n",
            "Probabilitas Hoax: 43.89%\n",
            "Probabilitas Asli: 56.11%\n"
          ]
        }
      ]
    }
  ]
}